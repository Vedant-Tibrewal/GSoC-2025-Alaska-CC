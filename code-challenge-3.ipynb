{
 "cells": [
  {
   "cell_type": "code",
   "execution_count": 1,
   "metadata": {},
   "outputs": [],
   "source": [
    "import torch\n",
    "import tensorflow as tf\n",
    "import numpy as np\n",
    "import xlns as xl"
   ]
  },
  {
   "cell_type": "code",
   "execution_count": 2,
   "metadata": {},
   "outputs": [],
   "source": [
    "def encode_lns_torch(values: torch.Tensor) -> torch.Tensor:\n",
    "    values = values.to(torch.float64)\n",
    "\n",
    "    abs_vals = torch.abs(values)\n",
    "\n",
    "    log_vals = torch.log2(abs_vals)\n",
    "    scaled = log_vals * (2**23)\n",
    "    rounded = torch.round(scaled)\n",
    "    encoded = (rounded.to(torch.int64) * 2)\n",
    "    sign_bit = (values < 0).to(torch.int64)\n",
    "    encoded = encoded | sign_bit\n",
    "\n",
    "    return encoded\n",
    "\n",
    "\n",
    "def lns_add_pytorch(x, y, F=23):\n",
    "    \n",
    "    \n",
    "\n",
    "    max_val = torch.maximum(x, y)\n",
    "    \n",
    "    diff = -torch.abs(x // 2 - y // 2)\n",
    "\n",
    "    \n",
    "    sign_bit = (x ^ y) & 1\n",
    "    \n",
    "    sb_result = sbdb_ufunc_ideal_pytorch(diff, sign_bit)\n",
    "    \n",
    "    func_output = max_val + sb_result\n",
    "\n",
    "    final_result = func_output\n",
    "\n",
    "    return final_result\n",
    "\n",
    "\n",
    "def sbdb_ufunc_ideal_pytorch(z, s, F=23):\n",
    "    z_float = z.to(torch.float64) / (2**F)\n",
    "    s_float = s.to(torch.float64)\n",
    "    \n",
    "    min_val = torch.minimum(-s_float, z_float)\n",
    "\n",
    "    pow_result = torch.pow(2.0, min_val)\n",
    "    \n",
    "    inner_term = 1.0 - 2.0 * s_float + pow_result\n",
    "    \n",
    "    log_result = torch.log2(torch.abs(inner_term))\n",
    "\n",
    "    result = torch.round(log_result * (2**F)).to(torch.int64)\n",
    "    result = (result * 2)\n",
    "    \n",
    "    return result\n",
    "\n"
   ]
  },
  {
   "cell_type": "code",
   "execution_count": 3,
   "metadata": {},
   "outputs": [
    {
     "data": {
      "text/plain": [
       "array([58039632, 55732706])"
      ]
     },
     "execution_count": 3,
     "metadata": {},
     "output_type": "execute_result"
    }
   ],
   "source": [
    "(xl.xlnsnp([10,3]) + xl.xlnsnp([1,7])).nd"
   ]
  },
  {
   "cell_type": "code",
   "execution_count": 4,
   "metadata": {},
   "outputs": [
    {
     "data": {
      "text/plain": [
       "tensor([58039632, 55732706])"
      ]
     },
     "execution_count": 4,
     "metadata": {},
     "output_type": "execute_result"
    }
   ],
   "source": [
    "a = torch.tensor([10,3])\n",
    "b = torch.tensor([1,7])\n",
    "\n",
    "a_1 = encode_lns_torch(a)\n",
    "b_1 = encode_lns_torch(b)\n",
    "lns_add_pytorch(a_1,b_1)"
   ]
  },
  {
   "cell_type": "code",
   "execution_count": 5,
   "metadata": {},
   "outputs": [],
   "source": [
    "def encode_lns_tf(values):\n",
    "    values = tf.cast(values, tf.float64)\n",
    "    abs_vals = tf.abs(values)\n",
    "    log_vals = tf.math.log(abs_vals) / tf.math.log(tf.cast(2, tf.float64))\n",
    "    scaled = log_vals * (2**23)\n",
    "    rounded = tf.round(scaled)\n",
    "    encoded = tf.cast(rounded, tf.int64) * 2\n",
    "    sign_bit = tf.cast(values < 0, tf.int64)\n",
    "    encoded = encoded | sign_bit\n",
    "\n",
    "    return encoded\n",
    "\n",
    "def sbdb_ufunc_ideal_tf(z, s, F=23):\n",
    "    z_float = tf.cast(z, tf.float64) / (2**F)\n",
    "    s_float = tf.cast(s, tf.float64)\n",
    "    min_val = tf.minimum(-s_float, z_float)\n",
    "    pow_result = tf.pow(tf.constant(2.0, dtype=tf.float64), min_val)\n",
    "    inner_term = 1.0 - 2.0 * s_float + pow_result\n",
    "    abs_inner = tf.abs(inner_term)\n",
    "    log_result = tf.math.log(abs_inner) / tf.math.log(tf.constant(2.0, dtype=tf.float64))\n",
    "    scaled_result = log_result * (2**F)\n",
    "    rounded_result = tf.round(scaled_result)\n",
    "    # is_negative = tf.cast(inner_term < 0, tf.int64)\n",
    "    result = tf.cast(rounded_result, tf.int64) * 2\n",
    "    \n",
    "    return result\n",
    "\n",
    "def lns_add_tensorflow(x, y, F=23):\n",
    "\n",
    "    max_val = tf.maximum(x, y)\n",
    "    diff = -tf.abs(x // 2 - y // 2)\n",
    "    sign_bit = (x ^ y) & 1\n",
    "    sb_result = sbdb_ufunc_ideal_tf(diff, sign_bit, F)\n",
    "    func_output = max_val + sb_result\n",
    "    \n",
    "    return func_output\n"
   ]
  },
  {
   "cell_type": "code",
   "execution_count": 6,
   "metadata": {},
   "outputs": [
    {
     "data": {
      "text/plain": [
       "<tf.Tensor: shape=(2,), dtype=int64, numpy=array([26591258, 16777216])>"
      ]
     },
     "execution_count": 6,
     "metadata": {},
     "output_type": "execute_result"
    }
   ],
   "source": [
    "x = tf.constant([2,3], dtype=tf.int64)\n",
    "y = tf.constant([1,-1], dtype=tf.int64)\n",
    "\n",
    "x_1 = encode_lns_tf(x)\n",
    "y_1 = encode_lns_tf(y)\n",
    "lns_add_tensorflow(x_1, y_1)"
   ]
  },
  {
   "cell_type": "code",
   "execution_count": null,
   "metadata": {},
   "outputs": [],
   "source": []
  }
 ],
 "metadata": {
  "kernelspec": {
   "display_name": "gsoc25-cc",
   "language": "python",
   "name": "python3"
  },
  "language_info": {
   "codemirror_mode": {
    "name": "ipython",
    "version": 3
   },
   "file_extension": ".py",
   "mimetype": "text/x-python",
   "name": "python",
   "nbconvert_exporter": "python",
   "pygments_lexer": "ipython3",
   "version": "3.10.16"
  }
 },
 "nbformat": 4,
 "nbformat_minor": 2
}
