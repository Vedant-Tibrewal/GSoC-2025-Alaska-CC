{
 "cells": [
  {
   "cell_type": "markdown",
   "metadata": {},
   "source": [
    "# Imports"
   ]
  },
  {
   "cell_type": "code",
   "execution_count": 1,
   "metadata": {},
   "outputs": [],
   "source": [
    "import torch\n",
    "import tensorflow as tf\n",
    "import numpy as np\n",
    "import xlns as xl"
   ]
  },
  {
   "cell_type": "markdown",
   "metadata": {},
   "source": [
    "# Question 1\n",
    "\n",
    "### Currently, when the data starts in xlns format, Pytorch/Tensorflow converts to FP. As part of the code challenge, we expect the contributor to provide short Python code snippets that demonstrate that if the data starts in xlns format, the computation cannot be carried out in the xlns format."
   ]
  },
  {
   "cell_type": "code",
   "execution_count": 2,
   "metadata": {},
   "outputs": [
    {
     "data": {
      "text/plain": [
       "array([16777216, 26591258])"
      ]
     },
     "execution_count": 2,
     "metadata": {},
     "output_type": "execute_result"
    }
   ],
   "source": [
    "# Testing xlns installation\n",
    "\n",
    "# xl.xlnssetF(23)\n",
    "lns_num = xl.xlnsnp([2.0, 3.0])\n",
    "lns_num.nd # xlns -> 23-bit Binary -> int decimal"
   ]
  },
  {
   "cell_type": "code",
   "execution_count": 3,
   "metadata": {},
   "outputs": [
    {
     "name": "stdout",
     "output_type": "stream",
     "text": [
      "Floating point:  [  2.   3. 100.] <class 'numpy.ndarray'>\n",
      "LNS:  [xlns(1.9999999986889088) xlns(2.9999999688096786) xlns(99.99999804082691)] <class 'xlns.xlnsnp'>\n",
      "FP number loaded into pytorch:  tensor([  2.,   3., 100.], dtype=torch.float64) <class 'torch.Tensor'>\n",
      "Error loading LNS (xlns) number into pytorch\n",
      "FP number loaded into tensorflow:  tf.Tensor([  2.   3. 100.], shape=(3,), dtype=float64) <class 'tensorflow.python.framework.ops.EagerTensor'>\n",
      "Error loading LNS (xlns) number into tensorflow\n"
     ]
    }
   ],
   "source": [
    "# Code Challenge - 1\n",
    "fp_num = np.array([2.0, 3.0, 100.0], dtype=float)\n",
    "print(\"Floating point: \", fp_num, type(fp_num))\n",
    "lns_num = xl.xlnsnp(fp_num)\n",
    "print(\"LNS: \", lns_num, type(lns_num))\n",
    "\n",
    "try:\n",
    "    torch_fp = torch.tensor(fp_num)\n",
    "    print(\"FP number loaded into pytorch: \", torch_fp, type(torch_fp))\n",
    "except:\n",
    "    print(\"Error loading FP (numpy) number into pytorch\")\n",
    "\n",
    "try:\n",
    "    torch_lns = torch.tensor(lns_num)\n",
    "    print(\"LNS number loaded into pytorch: \", torch_lns, type(torch_lns))\n",
    "except:\n",
    "    print(\"Error loading LNS (xlns) number into pytorch\")\n",
    "\n",
    "try:\n",
    "    tf_fp = tf.constant(fp_num)\n",
    "    print(\"FP number loaded into tensorflow: \", tf_fp, type(tf_fp))\n",
    "except:\n",
    "    print(\"Error loading FP (numpy) number into tensorflow\")\n",
    "\n",
    "try:\n",
    "    tf_lns = tf.constant(lns_num)\n",
    "    print(\"LNS number loaded into tensorflow: \", tf_lns, type(tf_lns))\n",
    "except:\n",
    "    print(\"Error loading LNS (xlns) number into tensorflow\")"
   ]
  },
  {
   "cell_type": "code",
   "execution_count": null,
   "metadata": {},
   "outputs": [],
   "source": []
  }
 ],
 "metadata": {
  "kernelspec": {
   "display_name": "gsoc25-cc",
   "language": "python",
   "name": "python3"
  },
  "language_info": {
   "codemirror_mode": {
    "name": "ipython",
    "version": 3
   },
   "file_extension": ".py",
   "mimetype": "text/x-python",
   "name": "python",
   "nbconvert_exporter": "python",
   "pygments_lexer": "ipython3",
   "version": "3.10.16"
  }
 },
 "nbformat": 4,
 "nbformat_minor": 2
}
